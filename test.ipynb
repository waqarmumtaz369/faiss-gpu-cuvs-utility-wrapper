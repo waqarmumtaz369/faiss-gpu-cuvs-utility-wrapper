{
 "cells": [
  {
   "cell_type": "code",
   "execution_count": 2,
   "id": "7f6f3165-48d5-4d7b-af1f-98cd5304ebff",
   "metadata": {},
   "outputs": [
    {
     "name": "stdout",
     "output_type": "stream",
     "text": [
      "this is a test file\n"
     ]
    }
   ],
   "source": [
    "print(\"this is a test file\")"
   ]
  }
 ],
 "metadata": {
  "kernelspec": {
   "display_name": "Python 3 (ipykernel)",
   "language": "python",
   "name": "python3"
  },
  "language_info": {
   "codemirror_mode": {
    "name": "ipython",
    "version": 3
   },
   "file_extension": ".py",
   "mimetype": "text/x-python",
   "name": "python",
   "nbconvert_exporter": "python",
   "pygments_lexer": "ipython3",
   "version": "3.11.13"
  }
 },
 "nbformat": 4,
 "nbformat_minor": 5
}
